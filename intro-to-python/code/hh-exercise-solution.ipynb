{
 "cells": [
  {
   "cell_type": "markdown",
   "metadata": {},
   "source": [
    "# Exercise\n",
    "\n",
    "Write code that based on whether or not it is happy hour, prints out the prices of our items on the menu. Happy hour pricing is half off (ROUNDED to the nearest whole dollar)."
   ]
  },
  {
   "cell_type": "code",
   "execution_count": null,
   "metadata": {},
   "outputs": [],
   "source": []
  },
  {
   "cell_type": "code",
   "execution_count": 1,
   "metadata": {},
   "outputs": [],
   "source": [
    "# check if it's happy hour\n",
    "# if is happy hour, I want to print each price but divided by two\n",
    "# if it isn't happy hour, I want to just print the menu price\n"
   ]
  },
  {
   "cell_type": "code",
   "execution_count": 2,
   "metadata": {},
   "outputs": [],
   "source": [
    "menu_prices = [12, 13, 22, 10, 14]"
   ]
  },
  {
   "cell_type": "code",
   "execution_count": 3,
   "metadata": {},
   "outputs": [],
   "source": [
    "happy_hour = True"
   ]
  },
  {
   "cell_type": "markdown",
   "metadata": {},
   "source": [
    "### Rounding up with `math.ceil()`\n",
    "\n",
    "We could assume our prices will always be whole numbers and, thus, ceiling will go to the next nearest greater whole dollar. (Or we assume the bar is mean and rounds values like `$1.10` to `$2.00`.)"
   ]
  },
  {
   "cell_type": "code",
   "execution_count": 4,
   "metadata": {},
   "outputs": [],
   "source": [
    "import math"
   ]
  },
  {
   "cell_type": "code",
   "execution_count": 5,
   "metadata": {},
   "outputs": [
    {
     "name": "stdout",
     "output_type": "stream",
     "text": [
      "6\n",
      "7\n",
      "11\n",
      "5\n",
      "7\n"
     ]
    }
   ],
   "source": [
    "for price in menu_prices:\n",
    "    if happy_hour == False:\n",
    "        print(price)\n",
    "    elif happy_hour == True:\n",
    "        print(math.ceil((price/2)))"
   ]
  },
  {
   "cell_type": "markdown",
   "metadata": {},
   "source": [
    "### Rounding up but treating values as strings\n",
    "\n",
    "We could change the halved price to a string and check the first value after a period to see if it is a five (`0.5`), and round up if so."
   ]
  },
  {
   "cell_type": "code",
   "execution_count": 6,
   "metadata": {},
   "outputs": [
    {
     "name": "stdout",
     "output_type": "stream",
     "text": [
      "6.0\n",
      "7.0\n",
      "11.0\n",
      "5.0\n",
      "7.0\n"
     ]
    }
   ],
   "source": [
    "for price in menu_prices:\n",
    "    if happy_hour == False:\n",
    "        print(price)\n",
    "    elif happy_hour == True:\n",
    "        # divide by two, convert to string\n",
    "        temp = str(price/2)\n",
    "        # grab the first value after the decimal\n",
    "        first_decimal = temp.split(\".\")[1]\n",
    "        # if we see a five, add 0.5 to the price\n",
    "        if first_decimal == \"5\":\n",
    "            print(float(temp) + 0.5)\n",
    "        # otherwise print the price as-is\n",
    "        else:\n",
    "            print(float(temp))\n"
   ]
  },
  {
   "cell_type": "markdown",
   "metadata": {},
   "source": [
    "### Rounding up with modulo `%`\n",
    "\n",
    "Modulo allows us to calculate the remainder of divison. For example, 15 divided by 2 is 7 with one remainder. Thus, 15 modulo (`%`) 2 is 1.\n",
    "\n",
    "So, we can take the integer of price divided by two (forcing price to round down). If price modulo 2 is non-zero, we will add one to the resulting price. (Note: Expressions that evaluate to `True` can be added to integers as +1!)"
   ]
  },
  {
   "cell_type": "code",
   "execution_count": 7,
   "metadata": {},
   "outputs": [
    {
     "name": "stdout",
     "output_type": "stream",
     "text": [
      "6\n",
      "7\n",
      "11\n",
      "5\n",
      "7\n"
     ]
    }
   ],
   "source": [
    "for price in menu_prices:\n",
    "    if happy_hour == False:\n",
    "        print(price)\n",
    "    elif happy_hour == True:\n",
    "        #print(price/2)\n",
    "        print(int((price / 2)) + (price % 2 > 0))"
   ]
  }
 ],
 "metadata": {
  "kernelspec": {
   "display_name": "Python 3",
   "language": "python",
   "name": "python3"
  },
  "language_info": {
   "codemirror_mode": {
    "name": "ipython",
    "version": 3
   },
   "file_extension": ".py",
   "mimetype": "text/x-python",
   "name": "python",
   "nbconvert_exporter": "python",
   "pygments_lexer": "ipython3",
   "version": "3.6.8"
  }
 },
 "nbformat": 4,
 "nbformat_minor": 2
}
